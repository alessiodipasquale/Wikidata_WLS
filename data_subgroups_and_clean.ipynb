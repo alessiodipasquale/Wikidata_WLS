{
 "cells": [
  {
   "cell_type": "code",
   "execution_count": 7,
   "id": "6e7c642f",
   "metadata": {},
   "outputs": [],
   "source": [
    "import json\n",
    "import os\n",
    "from collections import Counter\n",
    "import requests\n",
    "from tqdm import tqdm\n",
    "from wikidata.client import Client"
   ]
  },
  {
   "cell_type": "code",
   "execution_count": 2,
   "id": "a04080b3",
   "metadata": {},
   "outputs": [],
   "source": [
    "parent_folder = 'insert here your local path to the folder storing all datasets'\n",
    "folder = parent_folder + 'artworks/' # choose here the name of a dataset folder" 
   ]
  },
  {
   "cell_type": "code",
   "execution_count": null,
   "id": "ee62b286",
   "metadata": {},
   "outputs": [],
   "source": [
    "def count_entities(input_folder):    \n",
    "    i = 0\n",
    "    for filename in tqdm(os.listdir(input_folder)):\n",
    "            lista = []\n",
    "            f = os.path.join(input_folder, filename)\n",
    "            json_file = open(f)\n",
    "            data = json.load(json_file)\n",
    "            for key in data['entities']:\n",
    "                i +=1\n",
    "    print(i)"
   ]
  },
  {
   "cell_type": "code",
   "execution_count": 3,
   "id": "6b37b197",
   "metadata": {},
   "outputs": [],
   "source": [
    "def data_subgroups(input_folder, out_folder_name, file_name, selected_classes_list, i):\n",
    "\n",
    "    out_path = os.path.join(parent_folder, out_folder_name)\n",
    "\n",
    "    if not os.path.exists(out_path):\n",
    "        os.makedirs(out_path)\n",
    "\n",
    "    new_data = {}\n",
    "\n",
    "    for filename in tqdm(os.listdir(input_folder)):\n",
    "        lista = []\n",
    "        f = os.path.join(input_folder, filename)\n",
    "        json_file = open(f)\n",
    "        data = json.load(json_file)\n",
    "        for key in data['entities']:\n",
    "            list_of_classes = []\n",
    "            for claim in data['entities'][key]['claims']['P31']:\n",
    "                class_id = claim['mainsnak']['datavalue']['value']['id']\n",
    "                list_of_classes.append(class_id)\n",
    "\n",
    "            if (set(list_of_classes) & set(selected_classes_list)):\n",
    "                lista.append(key)\n",
    "        \n",
    "        for key in lista:\n",
    "            new_data.update({key:data['entities'][key]})\n",
    "            while len(new_data) >= 50:\n",
    "                data_to_write = {\"entities\": dict(list(new_data.items())[0:50]), \"success\": 1}\n",
    "                i += 1\n",
    "                with open(out_path + '/' + file_name + str(i) + '.json', 'w') as new_f:\n",
    "                    json.dump(data_to_write, new_f)\n",
    "                new_data = dict(list(new_data.items())[50:])\n",
    "                data_to_write = {}\n",
    "\n",
    "        for el in lista:\n",
    "            del data['entities'][el]\n",
    "        with open(f, \"w\") as jsonFile:\n",
    "            json.dump(data, jsonFile)\n",
    "\n",
    "    if len(new_data) > 0:\n",
    "        i += 1\n",
    "        data_to_write = {\"entities\": dict(list(new_data.items())[0:50]), \"success\": 1}\n",
    "        with open(out_path + '/' + file_name + str(i) + '.json', 'w') as new_f:\n",
    "                json.dump(data_to_write, new_f)   "
   ]
  },
  {
   "cell_type": "code",
   "execution_count": null,
   "id": "a668eda1",
   "metadata": {},
   "outputs": [],
   "source": [
    "pop_cult_class_file = open(parent_folder + 'intermediate_files/pop_culture_classes.json')\n",
    "pop_culture_classes = json.load(pop_cult_class_file)\n",
    "\n",
    "data_subgroups(folder, 'pop', 'pop_culture', pop_culture_classes, 0)"
   ]
  },
  {
   "cell_type": "code",
   "execution_count": null,
   "id": "76ebe5ba",
   "metadata": {},
   "outputs": [],
   "source": [
    "visual_class_file = open(parent_folder + 'intermediate_files/visual_heritage_classes.json')\n",
    "visual_classes = json.load(visual_class_file)\n",
    "\n",
    "data_subgroups(folder, 'visual', 'visual', visual_classes, 0)"
   ]
  },
  {
   "cell_type": "code",
   "execution_count": null,
   "id": "d7518123",
   "metadata": {},
   "outputs": [],
   "source": [
    "textual_class_file = open(parent_folder + 'intermediate_files/textual_heritage_classes.json')\n",
    "textual_classes = json.load(textual_class_file)\n",
    "\n",
    "data_subgroups(folder, 'text', 'textual', textual_classes, 0)"
   ]
  },
  {
   "cell_type": "code",
   "execution_count": null,
   "id": "e49e6372",
   "metadata": {},
   "outputs": [],
   "source": [
    "def select_duplicates(folder):\n",
    "    all_entities = []\n",
    "    for filename in tqdm(os.listdir(folder)):\n",
    "        f = os.path.join(folder, filename)\n",
    "        json_file = open(f)\n",
    "        data = json.load(json_file)\n",
    "        for key in data['entities']:\n",
    "            all_entities.append(key)\n",
    "\n",
    "    counted_keys = Counter(all_entities)\n",
    "\n",
    "    duplicates = {}\n",
    "    for x,y in counted_keys.items():\n",
    "        if y > 1:\n",
    "            duplicates.update({x:y})\n",
    "\n",
    "    n=0\n",
    "    for k,v in duplicates.items():\n",
    "        n+=v-1\n",
    "    print(n) # if the printed result is 0 no duplicates exist in the dataset\n",
    "        \n",
    "    return counted_keys"
   ]
  },
  {
   "cell_type": "code",
   "execution_count": null,
   "id": "09eaeb47",
   "metadata": {},
   "outputs": [],
   "source": [
    "def remove_duplicates(folder, duplicates):   \n",
    "    for filename in tqdm(os.listdir(folder)):\n",
    "        lista = []\n",
    "        f = os.path.join(folder, filename)\n",
    "        json_file = open(f)\n",
    "        data = json.load(json_file)\n",
    "        for key in data['entities']:\n",
    "            if duplicates[key] > 1:\n",
    "                lista.append(key)\n",
    "                duplicates = { **duplicates, key: duplicates[key]-1}\n",
    "        for el in lista:\n",
    "            del data['entities'][el]\n",
    "            with open(f, \"w\") as jsonFile:\n",
    "                json.dump(data, jsonFile)  "
   ]
  },
  {
   "cell_type": "code",
   "execution_count": 13,
   "id": "3094f77b",
   "metadata": {},
   "outputs": [],
   "source": [
    "def compact_jsons(folder, output_folder, filename_prefix, i):\n",
    "    new_data = {}\n",
    "    for filename in tqdm(os.listdir(folder)):\n",
    "        f = os.path.join(folder, filename)\n",
    "        json_file = open(f)\n",
    "        data = json.load(json_file)\n",
    "        if len(data['entities']) > 0:\n",
    "            new_data.update(data['entities'])\n",
    "        while len(new_data) >= 50:\n",
    "            data_to_write = {\"entities\": dict(list(new_data.items())[0:50]), \"success\": 1}\n",
    "            i += 1\n",
    "            with open(output_folder + filename_prefix + str(i) + '.json', 'w') as new_f:\n",
    "                json.dump(data_to_write, new_f)\n",
    "            new_data = dict(list(new_data.items())[50:])\n",
    "            data_to_write = {}\n",
    "                \n",
    "    if len(new_data) > 0:\n",
    "        i += 1\n",
    "        data_to_write = {\"entities\": dict(list(new_data.items())[0:50]), \"success\": 1}\n",
    "        with open(output_folder + filename_prefix + str(i) + '.json', 'w') as new_f:\n",
    "                json.dump(data_to_write, new_f)                 "
   ]
  },
  {
   "cell_type": "code",
   "execution_count": null,
   "id": "6d17fc32",
   "metadata": {},
   "outputs": [],
   "source": [
    "compact_jsons(parent_folder + '/visual', 'data/visual2/', 'visual')\n",
    "compact_jsons(parent_folder + '/text', 'data/textual2/', 'textual')\n",
    "compact_jsons(parent_folder + '/pop', 'data/pop2/', 'pop_culture')"
   ]
  },
  {
   "cell_type": "code",
   "execution_count": null,
   "id": "e7729d71",
   "metadata": {},
   "outputs": [],
   "source": [
    "count_entities(parent_folder + '/textual2')\n",
    "count_entities(parent_folder + '/visual2')\n",
    "count_entities(parent_folder + '/pop2')"
   ]
  },
  {
   "cell_type": "code",
   "execution_count": 40,
   "id": "b7e55042",
   "metadata": {},
   "outputs": [
    {
     "name": "stderr",
     "output_type": "stream",
     "text": [
      "  2%|█▎                                                                            | 230/13705 [00:04<04:37, 48.64it/s]"
     ]
    },
    {
     "name": "stdout",
     "output_type": "stream",
     "text": [
      "error occurred at: C:/Users/valep/OneDrive/Documenti/PhD/Conjectures/ADHO23/experiments/data//artworks\\artwork10395.json\n"
     ]
    },
    {
     "name": "stderr",
     "output_type": "stream",
     "text": [
      " 61%|██████████████████████████████████████████████▋                              | 8319/13705 [02:48<01:32, 58.35it/s]"
     ]
    },
    {
     "name": "stdout",
     "output_type": "stream",
     "text": [
      "error occurred at: C:/Users/valep/OneDrive/Documenti/PhD/Conjectures/ADHO23/experiments/data//artworks\\artwork37113.json\n"
     ]
    },
    {
     "name": "stderr",
     "output_type": "stream",
     "text": [
      "100%|████████████████████████████████████████████████████████████████████████████| 13705/13705 [04:49<00:00, 47.40it/s]\n"
     ]
    }
   ],
   "source": [
    "def check_json(folder_path):\n",
    "\n",
    "    for filename in tqdm(os.listdir(folder_path)):\n",
    "        f = os.path.join(folder_path, filename)\n",
    "        json_file = open(f)\n",
    "        try:\n",
    "            data = json.load(json_file)\n",
    "        except:\n",
    "            print('error occurred at:', f)\n",
    "        \n",
    "check_json(parent_folder + '/artworks')"
   ]
  },
  {
   "cell_type": "code",
   "execution_count": null,
   "id": "acb5a7e6",
   "metadata": {},
   "outputs": [],
   "source": [
    "check_json(parent_folder + '/visual2')\n",
    "check_json(parent_folder + '/pop2')\n",
    "check_json(parent_folder + '/text')"
   ]
  },
  {
   "cell_type": "code",
   "execution_count": null,
   "id": "6974ce9c",
   "metadata": {},
   "outputs": [],
   "source": [
    "print('#### ENTITIES IN TEXT FOLDER ######')\n",
    "count_entities(parent_folder + '/text')\n",
    "txt_duplicates = select_duplicates(parent_folder + '/text')\n",
    "count_entities(parent_folder + '/text')\n",
    "\n",
    "print('#### ENTITIES IN VISUAL FOLDER ######')\n",
    "count_entities(parent_folder + '/visual')\n",
    "viz_duplicates = select_duplicates(parent_folder + '/visual')\n",
    "count_entities(parent_folder + '/visual')\n",
    "\n",
    "print('#### ENTITIES IN POP FOLDER ######')\n",
    "count_entities(parent_folder + '/pop')\n",
    "pop_duplicates = select_duplicates(parent_folder + '/pop')\n",
    "remove_duplicates(parent_folder + '/pop', pop_duplicates)   \n",
    "count_entities(parent_folder + '/pop')\n",
    "\n",
    "left_duplicates = select_duplicates(parent_folder + '/artworks')\n",
    "remove_duplicates(parent_folder + '/artworks', left_duplicates)"
   ]
  },
  {
   "cell_type": "code",
   "execution_count": null,
   "id": "f4e30218",
   "metadata": {},
   "outputs": [],
   "source": [
    "remove_duplicates(parent_folder + '/text', txt_duplicates)   \n",
    "remove_duplicates(parent_folder + '/visual', viz_duplicates)  \n",
    "remove_duplicates(parent_folder + '/pop', pop_duplicates)   \n",
    "remove_duplicates(parent_folder + '/artworks', left_duplicates)"
   ]
  },
  {
   "cell_type": "code",
   "execution_count": null,
   "id": "88928fee",
   "metadata": {},
   "outputs": [],
   "source": [
    "count_entities(parent_folder + '/text')\n",
    "count_entities(parent_folder + '/visual')\n",
    "count_entities(parent_folder + '/pop')\n",
    "count_entities(parent_folder + '/artworks')"
   ]
  },
  {
   "cell_type": "code",
   "execution_count": 23,
   "id": "f2fa6260",
   "metadata": {},
   "outputs": [
    {
     "name": "stderr",
     "output_type": "stream",
     "text": [
      "100%|██████████████████████████████████████████████████████████████████████████████| 1737/1737 [00:27<00:00, 63.46it/s]\n"
     ]
    }
   ],
   "source": [
    "temp_dict = {}\n",
    "for filename in tqdm(os.listdir(parent_folder + '/artworks')):\n",
    "    f = os.path.join(parent_folder + '/artworks', filename)\n",
    "    json_file = open(f)\n",
    "    data = json.load(json_file)\n",
    "    for key in data['entities']:\n",
    "        for claim in data['entities'][key]['claims']['P31']:\n",
    "            class_id = claim['mainsnak']['datavalue']['value']['id']\n",
    "            if class_id not in temp_dict:\n",
    "                temp_dict.update({class_id:1})\n",
    "            else:\n",
    "                temp_dict.update({class_id:temp_dict[class_id] + 1})\n",
    "                \n",
    "sorted_classes = sorted(temp_dict.items(), key=lambda x:x[1], reverse=True)    \n",
    "\n",
    "# xd = open(\"query.json\")\n",
    "# xdd = json.load(xd)\n",
    "# for x in sorted_classes:\n",
    "#     for y in xdd:\n",
    "#         value = y['item'].replace('http://www.wikidata.org/entity/', '')\n",
    "#         if x[0] == value:\n",
    "#             print(\"\\\"\" + value + \"\\\",\")\n",
    "    \n",
    "\n",
    "# for x in sorted_classes:\n",
    "#     for y in theatrica_genre:\n",
    "#         if x[0] == y:\n",
    "#             print(\"\\\"\" + y + \"\\\",\")\n",
    "\n",
    "print(len(sorted_classes))\n",
    "client = Client() \n",
    "for x in sorted_classes:\n",
    "    if x[1] < 15 and x[1] > 0:\n",
    "        try:\n",
    "            entity = client.get(x[0], load=True)\n",
    "            print(x, entity.label.texts['en'])\n",
    "        except:\n",
    "            print(x)"
   ]
  },
  {
   "cell_type": "code",
   "execution_count": 27,
   "id": "95b3dcb3",
   "metadata": {},
   "outputs": [],
   "source": [
    "def remove_empty_files(folder):   \n",
    "    \n",
    "    lista = []\n",
    "    for filename in tqdm(os.listdir(folder)):\n",
    "        f = os.path.join(folder, filename)\n",
    "        json_file = open(f)\n",
    "        print(filename)\n",
    "        data = json.load(json_file)\n",
    "        empty_dict = {'entities': {}, 'success': 1}\n",
    "        if data == empty_dict:\n",
    "            lista.append(filename)\n",
    "        \n",
    "    for fn in tqdm(lista):\n",
    "        os.remove(os.path.join(folder, fn))"
   ]
  },
  {
   "cell_type": "code",
   "execution_count": null,
   "id": "170692e9",
   "metadata": {},
   "outputs": [],
   "source": [
    "irrelevant_classes = [x[0] for x in sorted_classes if x[1] > 800]\n",
    "\n",
    "data_subgroups(folder, 'others', 'other', irrelevant_classes, 0)"
   ]
  },
  {
   "cell_type": "code",
   "execution_count": null,
   "id": "5d37114b",
   "metadata": {},
   "outputs": [],
   "source": [
    "remove_empty_files(parent_folder + '/artworks')"
   ]
  },
  {
   "cell_type": "code",
   "execution_count": 12,
   "id": "c00bea19",
   "metadata": {},
   "outputs": [
    {
     "name": "stderr",
     "output_type": "stream",
     "text": [
      "100%|██████████████████████████████████████████████████████████████████████████████| 1737/1737 [01:56<00:00, 14.87it/s]\n",
      "100%|██████████████████████████████████████████████████████████████████████████████| 1737/1737 [02:10<00:00, 13.32it/s]\n",
      "100%|██████████████████████████████████████████████████████████████████████████████| 1737/1737 [02:05<00:00, 13.86it/s]\n"
     ]
    }
   ],
   "source": [
    "pop_cult_class_file = open(parent_folder + 'intermediate_files/pop_culture_classes.json')\n",
    "pop_culture_classes = json.load(pop_cult_class_file)\n",
    "\n",
    "data_subgroups(folder, 'new_pop', 'pop_culture', pop_culture_classes, 25035)\n",
    "\n",
    "visual_class_file = open(parent_folder + 'intermediate_files/visual_heritage_classes.json')\n",
    "visual_classes = json.load(visual_class_file)\n",
    "\n",
    "data_subgroups(folder, 'new_viz', 'visual', visual_classes, 21553)\n",
    "\n",
    "textual_class_file = open(parent_folder + 'intermediate_files/textual_heritage_classes.json')\n",
    "textual_classes = json.load(textual_class_file)\n",
    "\n",
    "data_subgroups(folder, 'new_tex', 'textual', textual_classes, 12505)"
   ]
  },
  {
   "cell_type": "code",
   "execution_count": 17,
   "id": "c12de2e5",
   "metadata": {},
   "outputs": [
    {
     "name": "stderr",
     "output_type": "stream",
     "text": [
      "100%|██████████████████████████████████████████████████████████████████████████████████| 17/17 [00:01<00:00,  8.57it/s]\n"
     ]
    }
   ],
   "source": [
    "#compact_jsons(parent_folder + '/new_viz', 'data/new_viz2/', 'visual', 21518)\n",
    "#compact_jsons(parent_folder + '/new_tex', 'data/new_tex2/', 'textual', 12468)\n",
    "compact_jsons(parent_folder + '/new_pop', 'data/new_pop2/', 'pop_culture', 25018)"
   ]
  },
  {
   "cell_type": "code",
   "execution_count": 22,
   "id": "6b8c196b",
   "metadata": {},
   "outputs": [],
   "source": [
    "def copy_jsons(folder, output_folder, filename_prefix):\n",
    "    i = 1\n",
    "    for filename in tqdm(os.listdir(folder)):\n",
    "        f = os.path.join(folder, filename)\n",
    "        json_file = open(f)\n",
    "        data = json.load(json_file)\n",
    "        with open(output_folder + filename_prefix + str(i) + '.json', 'w') as new_f:\n",
    "                json.dump(data, new_f)\n",
    "        i += 1\n",
    "\n",
    "copy_jsons(parent_folder + '/pop', 'data/new_pop/', 'pop_culture')\n",
    "copy_jsons(parent_folder + '/visual', 'data/new_viz/', 'visual')\n",
    "copy_jsons(parent_folder + '/textual', 'data/new_text/', 'textual')"
   ]
  },
  {
   "cell_type": "code",
   "execution_count": null,
   "id": "b64bff3a",
   "metadata": {},
   "outputs": [],
   "source": []
  }
 ],
 "metadata": {
  "kernelspec": {
   "display_name": "Python 3 (ipykernel)",
   "language": "python",
   "name": "python3"
  },
  "language_info": {
   "codemirror_mode": {
    "name": "ipython",
    "version": 3
   },
   "file_extension": ".py",
   "mimetype": "text/x-python",
   "name": "python",
   "nbconvert_exporter": "python",
   "pygments_lexer": "ipython3",
   "version": "3.10.9"
  }
 },
 "nbformat": 4,
 "nbformat_minor": 5
}
